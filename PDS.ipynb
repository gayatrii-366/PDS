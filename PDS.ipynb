{
  "cells": [
    {
      "cell_type": "code",
      "execution_count": 29,
      "metadata": {},
      "outputs": [],
      "source": [
        "import warnings\n",
        "warnings.filterwarnings(\"ignore\")"
      ]
    },
    {
      "cell_type": "markdown",
      "metadata": {
        "id": "UnSYt82k2pwJ"
      },
      "source": [
        "1. importing datasets \n",
        "2. merging the datasets"
      ]
    },
    {
      "cell_type": "code",
      "execution_count": 30,
      "metadata": {
        "colab": {
          "base_uri": "https://localhost:8080/"
        },
        "id": "FjpsnLZlxx2G",
        "outputId": "ec5c09d4-b4ec-4c36-c392-f215223a1992"
      },
      "outputs": [
        {
          "name": "stdout",
          "output_type": "stream",
          "text": [
            "Merged data:\n"
          ]
        },
        {
          "data": {
            "text/html": [
              "<div>\n",
              "<style scoped>\n",
              "    .dataframe tbody tr th:only-of-type {\n",
              "        vertical-align: middle;\n",
              "    }\n",
              "\n",
              "    .dataframe tbody tr th {\n",
              "        vertical-align: top;\n",
              "    }\n",
              "\n",
              "    .dataframe thead th {\n",
              "        text-align: right;\n",
              "    }\n",
              "</style>\n",
              "<table border=\"1\" class=\"dataframe\">\n",
              "  <thead>\n",
              "    <tr style=\"text-align: right;\">\n",
              "      <th></th>\n",
              "      <th>Timestamp</th>\n",
              "      <th>Participant_ID</th>\n",
              "      <th>Gender</th>\n",
              "      <th>Nationality</th>\n",
              "      <th>Age</th>\n",
              "      <th>Food</th>\n",
              "      <th>Juice</th>\n",
              "      <th>Dessert</th>\n",
              "      <th>name</th>\n",
              "      <th>ingredients</th>\n",
              "      <th>diet</th>\n",
              "      <th>prep_time</th>\n",
              "      <th>cook_time</th>\n",
              "      <th>flavor_profile</th>\n",
              "      <th>course</th>\n",
              "      <th>state</th>\n",
              "      <th>region</th>\n",
              "    </tr>\n",
              "  </thead>\n",
              "  <tbody>\n",
              "    <tr>\n",
              "      <th>0</th>\n",
              "      <td>NaN</td>\n",
              "      <td>NaN</td>\n",
              "      <td>NaN</td>\n",
              "      <td>NaN</td>\n",
              "      <td>NaN</td>\n",
              "      <td>NaN</td>\n",
              "      <td>NaN</td>\n",
              "      <td>NaN</td>\n",
              "      <td>Adhirasam</td>\n",
              "      <td>Rice flour, jaggery, ghee, vegetable oil, elachi</td>\n",
              "      <td>vegetarian</td>\n",
              "      <td>10.0</td>\n",
              "      <td>50.0</td>\n",
              "      <td>sweet</td>\n",
              "      <td>dessert</td>\n",
              "      <td>West Bengal</td>\n",
              "      <td>East</td>\n",
              "    </tr>\n",
              "    <tr>\n",
              "      <th>1</th>\n",
              "      <td>NaN</td>\n",
              "      <td>NaN</td>\n",
              "      <td>NaN</td>\n",
              "      <td>NaN</td>\n",
              "      <td>NaN</td>\n",
              "      <td>NaN</td>\n",
              "      <td>NaN</td>\n",
              "      <td>NaN</td>\n",
              "      <td>Aloo gobi</td>\n",
              "      <td>Cauliflower, potato, garam masala, turmeric, c...</td>\n",
              "      <td>vegetarian</td>\n",
              "      <td>10.0</td>\n",
              "      <td>20.0</td>\n",
              "      <td>spicy</td>\n",
              "      <td>main course</td>\n",
              "      <td>Punjab</td>\n",
              "      <td>North</td>\n",
              "    </tr>\n",
              "    <tr>\n",
              "      <th>2</th>\n",
              "      <td>NaN</td>\n",
              "      <td>NaN</td>\n",
              "      <td>NaN</td>\n",
              "      <td>NaN</td>\n",
              "      <td>NaN</td>\n",
              "      <td>NaN</td>\n",
              "      <td>NaN</td>\n",
              "      <td>NaN</td>\n",
              "      <td>Aloo matar</td>\n",
              "      <td>Potato, peas, chillies, ginger, garam masala, ...</td>\n",
              "      <td>vegetarian</td>\n",
              "      <td>5.0</td>\n",
              "      <td>40.0</td>\n",
              "      <td>spicy</td>\n",
              "      <td>main course</td>\n",
              "      <td>Punjab</td>\n",
              "      <td>North</td>\n",
              "    </tr>\n",
              "    <tr>\n",
              "      <th>3</th>\n",
              "      <td>NaN</td>\n",
              "      <td>NaN</td>\n",
              "      <td>NaN</td>\n",
              "      <td>NaN</td>\n",
              "      <td>NaN</td>\n",
              "      <td>NaN</td>\n",
              "      <td>NaN</td>\n",
              "      <td>NaN</td>\n",
              "      <td>Aloo methi</td>\n",
              "      <td>Potato, fenugreek leaves, chillies, salt, oil</td>\n",
              "      <td>vegetarian</td>\n",
              "      <td>10.0</td>\n",
              "      <td>40.0</td>\n",
              "      <td>bitter</td>\n",
              "      <td>main course</td>\n",
              "      <td>Punjab</td>\n",
              "      <td>North</td>\n",
              "    </tr>\n",
              "    <tr>\n",
              "      <th>4</th>\n",
              "      <td>NaN</td>\n",
              "      <td>NaN</td>\n",
              "      <td>NaN</td>\n",
              "      <td>NaN</td>\n",
              "      <td>NaN</td>\n",
              "      <td>NaN</td>\n",
              "      <td>NaN</td>\n",
              "      <td>NaN</td>\n",
              "      <td>Aloo shimla mirch</td>\n",
              "      <td>Potato, shimla mirch, garam masala, amchur pow...</td>\n",
              "      <td>vegetarian</td>\n",
              "      <td>10.0</td>\n",
              "      <td>40.0</td>\n",
              "      <td>spicy</td>\n",
              "      <td>main course</td>\n",
              "      <td>Punjab</td>\n",
              "      <td>North</td>\n",
              "    </tr>\n",
              "  </tbody>\n",
              "</table>\n",
              "</div>"
            ],
            "text/plain": [
              "  Timestamp Participant_ID Gender Nationality  Age Food Juice Dessert  \\\n",
              "0       NaN            NaN    NaN         NaN  NaN  NaN   NaN     NaN   \n",
              "1       NaN            NaN    NaN         NaN  NaN  NaN   NaN     NaN   \n",
              "2       NaN            NaN    NaN         NaN  NaN  NaN   NaN     NaN   \n",
              "3       NaN            NaN    NaN         NaN  NaN  NaN   NaN     NaN   \n",
              "4       NaN            NaN    NaN         NaN  NaN  NaN   NaN     NaN   \n",
              "\n",
              "                name                                        ingredients  \\\n",
              "0          Adhirasam   Rice flour, jaggery, ghee, vegetable oil, elachi   \n",
              "1          Aloo gobi  Cauliflower, potato, garam masala, turmeric, c...   \n",
              "2         Aloo matar  Potato, peas, chillies, ginger, garam masala, ...   \n",
              "3         Aloo methi      Potato, fenugreek leaves, chillies, salt, oil   \n",
              "4  Aloo shimla mirch  Potato, shimla mirch, garam masala, amchur pow...   \n",
              "\n",
              "         diet  prep_time  cook_time flavor_profile       course        state  \\\n",
              "0  vegetarian       10.0       50.0          sweet      dessert  West Bengal   \n",
              "1  vegetarian       10.0       20.0          spicy  main course       Punjab   \n",
              "2  vegetarian        5.0       40.0          spicy  main course       Punjab   \n",
              "3  vegetarian       10.0       40.0         bitter  main course       Punjab   \n",
              "4  vegetarian       10.0       40.0          spicy  main course       Punjab   \n",
              "\n",
              "  region  \n",
              "0   East  \n",
              "1  North  \n",
              "2  North  \n",
              "3  North  \n",
              "4  North  "
            ]
          },
          "execution_count": 30,
          "metadata": {},
          "output_type": "execute_result"
        }
      ],
      "source": [
        "\n",
        "import pandas as pd\n",
        "\n",
        "df1 = pd.read_csv(\"D:\\\\PDS\\\\Food_Preference.csv\")\n",
        "df2 = pd.read_csv(\"D:\\\\PDS\\\\indian_food.csv\")\n",
        "\n",
        "merged_df = pd.merge(df1, df2, how='outer', left_on='Food', right_on='name')\n",
        "print(\"Merged data:\")\n",
        "merged_df.head()"
      ]
    },
    {
      "cell_type": "markdown",
      "metadata": {},
      "source": [
        "1. importing pandas for manipulation of numbers\n",
        "2. importing matplotlib for plotting\n",
        "3. importing seaborn for visualisation of graphs\n",
        "4. using .info() function for all information about dataset like datatype, column name etc\n",
        "5. using .describe() function for description of dataset\n",
        "6. using .isnull() function for finding null values in each column (NaN is for dataype object)\n",
        "7. using .dropna() function for dropping columns with null values\n",
        "8. using .fillna(value) function for filling null with values\n",
        "9. using .value_counts() function for counting values in columns\n",
        "10. uisng .duplicated() function for all duplicated all columns"
      ]
    },
    {
      "cell_type": "code",
      "execution_count": 31,
      "metadata": {
        "colab": {
          "base_uri": "https://localhost:8080/",
          "height": 1000
        },
        "id": "53Q3Gsiqw0rY",
        "outputId": "07078c4c-f318-45d6-9727-29ecb80fe418"
      },
      "outputs": [
        {
          "name": "stdout",
          "output_type": "stream",
          "text": [
            "Dataset Info:\n",
            "<class 'pandas.core.frame.DataFrame'>\n",
            "RangeIndex: 255 entries, 0 to 254\n",
            "Data columns (total 9 columns):\n",
            " #   Column          Non-Null Count  Dtype \n",
            "---  ------          --------------  ----- \n",
            " 0   name            255 non-null    object\n",
            " 1   ingredients     255 non-null    object\n",
            " 2   diet            255 non-null    object\n",
            " 3   prep_time       255 non-null    int64 \n",
            " 4   cook_time       255 non-null    int64 \n",
            " 5   flavor_profile  255 non-null    object\n",
            " 6   course          255 non-null    object\n",
            " 7   state           255 non-null    object\n",
            " 8   region          254 non-null    object\n",
            "dtypes: int64(2), object(7)\n",
            "memory usage: 18.1+ KB\n",
            "\n",
            "Dataset Description:\n",
            "              name              ingredients        diet   prep_time  \\\n",
            "count          255                      255         255  255.000000   \n",
            "unique         255                      252           2         NaN   \n",
            "top     Balu shahi  Gram flour, ghee, sugar  vegetarian         NaN   \n",
            "freq             1                        2         226         NaN   \n",
            "mean           NaN                      NaN         NaN   31.105882   \n",
            "std            NaN                      NaN         NaN   72.554409   \n",
            "min            NaN                      NaN         NaN   -1.000000   \n",
            "25%            NaN                      NaN         NaN   10.000000   \n",
            "50%            NaN                      NaN         NaN   10.000000   \n",
            "75%            NaN                      NaN         NaN   20.000000   \n",
            "max            NaN                      NaN         NaN  500.000000   \n",
            "\n",
            "         cook_time flavor_profile       course    state region  \n",
            "count   255.000000            255          255      255    254  \n",
            "unique         NaN              5            4       25      7  \n",
            "top            NaN          spicy  main course  Gujarat   West  \n",
            "freq           NaN            133          129       35     74  \n",
            "mean     34.529412            NaN          NaN      NaN    NaN  \n",
            "std      48.265650            NaN          NaN      NaN    NaN  \n",
            "min      -1.000000            NaN          NaN      NaN    NaN  \n",
            "25%      20.000000            NaN          NaN      NaN    NaN  \n",
            "50%      30.000000            NaN          NaN      NaN    NaN  \n",
            "75%      40.000000            NaN          NaN      NaN    NaN  \n",
            "max     720.000000            NaN          NaN      NaN    NaN  \n",
            "\n",
            "First 5 Rows:\n",
            "             name                                        ingredients  \\\n",
            "0      Balu shahi                    Maida flour, yogurt, oil, sugar   \n",
            "1          Boondi                            Gram flour, ghee, sugar   \n",
            "2  Gajar ka halwa       Carrots, milk, sugar, ghee, cashews, raisins   \n",
            "3          Ghevar  Flour, ghee, kewra, milk, clarified butter, su...   \n",
            "4     Gulab jamun  Milk powder, plain flour, baking powder, ghee,...   \n",
            "\n",
            "         diet  prep_time  cook_time flavor_profile   course        state  \\\n",
            "0  vegetarian         45         25          sweet  dessert  West Bengal   \n",
            "1  vegetarian         80         30          sweet  dessert    Rajasthan   \n",
            "2  vegetarian         15         60          sweet  dessert       Punjab   \n",
            "3  vegetarian         15         30          sweet  dessert    Rajasthan   \n",
            "4  vegetarian         15         40          sweet  dessert  West Bengal   \n",
            "\n",
            "  region  \n",
            "0   East  \n",
            "1   West  \n",
            "2  North  \n",
            "3   West  \n",
            "4   East  \n",
            "\n",
            "Null Values in Each Column:\n",
            "name              0\n",
            "ingredients       0\n",
            "diet              0\n",
            "prep_time         0\n",
            "cook_time         0\n",
            "flavor_profile    0\n",
            "course            0\n",
            "state             0\n",
            "region            1\n",
            "dtype: int64\n",
            "\n",
            "After Dropping Nulls:\n",
            "name              0\n",
            "ingredients       0\n",
            "diet              0\n",
            "prep_time         0\n",
            "cook_time         0\n",
            "flavor_profile    0\n",
            "course            0\n",
            "state             0\n",
            "region            0\n",
            "dtype: int64\n",
            "\n",
            "Dataset after Filling Nulls with Column Means:\n",
            "name              0\n",
            "ingredients       0\n",
            "diet              0\n",
            "prep_time         0\n",
            "cook_time         0\n",
            "flavor_profile    0\n",
            "course            0\n",
            "state             0\n",
            "region            1\n",
            "dtype: int64\n",
            "\n",
            "Value Counts for 'diet':\n",
            "diet\n",
            "vegetarian        226\n",
            "non vegetarian     29\n",
            "Name: count, dtype: int64\n",
            "\n",
            "Number of Duplicated Rows:\n",
            "0\n"
          ]
        }
      ],
      "source": [
        "#importing necessary libraries\n",
        "\n",
        "import pandas as pd\n",
        "import matplotlib.pyplot as plt\n",
        "import seaborn as sns\n",
        "from scipy.stats import zscore\n",
        "\n",
        "# Load the dataset\n",
        "file_path = \"D:\\\\PDS\\\\indian_food.csv\"\n",
        "df = pd.read_csv(file_path)\n",
        "\n",
        "# Basic Data pre-processing\n",
        "print(\"Dataset Info:\")\n",
        "df.info()\n",
        "print(\"\\nDataset Description:\")\n",
        "print(df.describe(include='all'))\n",
        "print(\"\\nFirst 5 Rows:\")\n",
        "print(df.head())\n",
        "\n",
        "# Checking for null values\n",
        "print(\"\\nNull Values in Each Column:\")\n",
        "print(df.isnull().sum())\n",
        "\n",
        "# Handling Missing Data\n",
        "# Dropping rows with any missing values\n",
        "df_cleaned = df.dropna()\n",
        "print(\"\\nAfter Dropping Nulls:\")\n",
        "print(df_cleaned.isnull().sum())\n",
        "\n",
        "# Filling missing values with column means (if numeric)\n",
        "df_filled = df.fillna(df.mean(numeric_only=True))\n",
        "print(\"\\nDataset after Filling Nulls with Column Means:\")\n",
        "print(df_filled.isnull().sum())\n",
        "\n",
        "# Value counts for a specific column ('diet' as an example)\n",
        "print(\"\\nValue Counts for 'diet':\")\n",
        "print(df['diet'].value_counts())\n",
        "\n",
        "# Checking for Duplicates\n",
        "print(\"\\nNumber of Duplicated Rows:\")\n",
        "print(df.duplicated().sum())\n"
      ]
    },
    {
      "cell_type": "markdown",
      "metadata": {},
      "source": [
        "Scatter plot\n",
        "using scatter plot to compare prep time an dcooking time in minutes for all dishes "
      ]
    },
    {
      "cell_type": "code",
      "execution_count": 32,
      "metadata": {},
      "outputs": [
        {
          "data": {
            "image/png": "[encoded data removed]",
            "text/plain": [
              "<Figure size 500x300 with 1 Axes>"
            ]
          },
          "metadata": {},
          "output_type": "display_data"
        }
      ],
      "source": [
        "# Scatter Plot\n",
        "plt.figure(figsize=(5, 3))\n",
        "plt.scatter(df['prep_time'], df['cook_time'], alpha=0.7, color='b')\n",
        "plt.title('Prep Time vs Cook Time')\n",
        "plt.xlabel('Preparation Time (minutes)')\n",
        "plt.ylabel('Cooking Time (minutes)')\n",
        "plt.show()"
      ]
    },
    {
      "cell_type": "markdown",
      "metadata": {},
      "source": [
        "Bar graph\n",
        "bar graph is plotted to show number of people eating vegetarian or non-vegetarian"
      ]
    },
    {
      "cell_type": "code",
      "execution_count": 33,
      "metadata": {},
      "outputs": [
        {
          "data": {
            "image/png": "[encoded data removed]",
            "text/plain": [
              "<Figure size 500x300 with 1 Axes>"
            ]
          },
          "metadata": {},
          "output_type": "display_data"
        }
      ],
      "source": [
        "# Bar Plot\n",
        "plt.figure(figsize=(5, 3))\n",
        "df['diet'].value_counts().plot(kind='bar', color='green')\n",
        "plt.title('Diet Distribution')\n",
        "plt.xlabel('Diet Type')\n",
        "plt.ylabel('Count')\n",
        "plt.show()"
      ]
    },
    {
      "cell_type": "markdown",
      "metadata": {},
      "source": [
        "pie chart\n",
        "using pie chart for showing percentage of people eating snacks, dessert, starters and main course"
      ]
    },
    {
      "cell_type": "code",
      "execution_count": 34,
      "metadata": {},
      "outputs": [
        {
          "data": {
            "image/png": "[encoded data removed]",
            "text/plain": [
              "<Figure size 500x300 with 1 Axes>"
            ]
          },
          "metadata": {},
          "output_type": "display_data"
        }
      ],
      "source": [
        "# Pie Chart\n",
        "plt.figure(figsize=(5, 3))\n",
        "df['course'].value_counts().plot(kind='pie', autopct='%1.1f%%', startangle=140, colors=['pink', 'lightcoral', 'skyblue'])\n",
        "plt.title('Course Distribution')\n",
        "plt.ylabel('')\n",
        "plt.show()"
      ]
    },
    {
      "cell_type": "markdown",
      "metadata": {},
      "source": [
        "Box plot graph for detecting outliers\n",
        "using box grpah for detecting outliers between prep and cook time"
      ]
    },
    {
      "cell_type": "code",
      "execution_count": 35,
      "metadata": {},
      "outputs": [
        {
          "data": {
            "image/png": "[encoded data removed]",
            "text/plain": [
              "<Figure size 500x300 with 1 Axes>"
            ]
          },
          "metadata": {},
          "output_type": "display_data"
        }
      ],
      "source": [
        "# Box Plot (Outliers)\n",
        "plt.figure(figsize=(5, 3))\n",
        "sns.boxplot(data=df[['prep_time', 'cook_time']], palette='Set2')\n",
        "plt.title('Box Plot for Prep Time and Cook Time')\n",
        "plt.show()"
      ]
    },
    {
      "cell_type": "markdown",
      "metadata": {},
      "source": [
        "Wave graph\n",
        "plotting wave graph to show minutes required for prep and cook time"
      ]
    },
    {
      "cell_type": "code",
      "execution_count": 36,
      "metadata": {},
      "outputs": [
        {
          "data": {
            "image/png": "[encoded data removed]",
            "text/plain": [
              "<Figure size 500x300 with 1 Axes>"
            ]
          },
          "metadata": {},
          "output_type": "display_data"
        }
      ],
      "source": [
        "# Wave Graph (Uniform Curve)\n",
        "plt.figure(figsize=(5, 3))\n",
        "plt.plot(df['prep_time'], label='Prep Time', color='red', alpha=0.7)\n",
        "plt.plot(df['cook_time'], label='Cook Time', color='yellow', alpha=0.7)\n",
        "plt.title('Wave Graph of Prep and Cook Times')\n",
        "plt.xlabel('Index')\n",
        "plt.ylabel('Time (minutes)')\n",
        "plt.legend()\n",
        "plt.show()"
      ]
    },
    {
      "cell_type": "markdown",
      "metadata": {},
      "source": [
        "Calculating skewness to see where our data is more relaying prep or cook time. by output we can see the dataset is more heavier towards cook time"
      ]
    },
    {
      "cell_type": "code",
      "execution_count": 37,
      "metadata": {},
      "outputs": [
        {
          "name": "stdout",
          "output_type": "stream",
          "text": [
            "\n",
            "Skewness of Numeric Columns:\n"
          ]
        },
        {
          "data": {
            "text/plain": [
              "prep_time     4.636301\n",
              "cook_time    11.433430\n",
              "dtype: float64"
            ]
          },
          "execution_count": 37,
          "metadata": {},
          "output_type": "execute_result"
        }
      ],
      "source": [
        "# Skewness\n",
        "print(\"\\nSkewness of Numeric Columns:\")\n",
        "df[['prep_time', 'cook_time']].skew()"
      ]
    },
    {
      "cell_type": "markdown",
      "metadata": {},
      "source": [
        "Detecting outliers using IQR"
      ]
    },
    {
      "cell_type": "code",
      "execution_count": 38,
      "metadata": {},
      "outputs": [
        {
          "name": "stdout",
          "output_type": "stream",
          "text": [
            "\n",
            "IQR:\n",
            "prep_time    10.0\n",
            "cook_time    20.0\n",
            "dtype: float64\n"
          ]
        }
      ],
      "source": [
        "# Outlier Detection using IQR\n",
        "Q1 = df[['prep_time', 'cook_time']].quantile(0.25)\n",
        "Q3 = df[['prep_time', 'cook_time']].quantile(0.75)\n",
        "IQR = Q3 - Q1\n",
        "print(\"\\nIQR:\")\n",
        "print(IQR)\n"
      ]
    },
    {
      "cell_type": "markdown",
      "metadata": {},
      "source": [
        "Filtering outliers"
      ]
    },
    {
      "cell_type": "code",
      "execution_count": 39,
      "metadata": {},
      "outputs": [
        {
          "name": "stdout",
          "output_type": "stream",
          "text": [
            "\n",
            "Number of Outliers:\n",
            "38\n"
          ]
        }
      ],
      "source": [
        "# Filtering out outliers\n",
        "outliers = ((df[['prep_time', 'cook_time']] < (Q1 - 1.5 * IQR)) | (df[['prep_time', 'cook_time']] > (Q3 + 1.5 * IQR))).any(axis=1)\n",
        "print(\"\\nNumber of Outliers:\")\n",
        "print(outliers.sum())"
      ]
    },
    {
      "cell_type": "markdown",
      "metadata": {},
      "source": [
        "Z-score normalisation"
      ]
    },
    {
      "cell_type": "code",
      "execution_count": 40,
      "metadata": {},
      "outputs": [
        {
          "name": "stdout",
          "output_type": "stream",
          "text": [
            "\n",
            "First 5 Rows of Normalized Data:\n"
          ]
        },
        {
          "data": {
            "text/html": [
              "<div>\n",
              "<style scoped>\n",
              "    .dataframe tbody tr th:only-of-type {\n",
              "        vertical-align: middle;\n",
              "    }\n",
              "\n",
              "    .dataframe tbody tr th {\n",
              "        vertical-align: top;\n",
              "    }\n",
              "\n",
              "    .dataframe thead th {\n",
              "        text-align: right;\n",
              "    }\n",
              "</style>\n",
              "<table border=\"1\" class=\"dataframe\">\n",
              "  <thead>\n",
              "    <tr style=\"text-align: right;\">\n",
              "      <th></th>\n",
              "      <th>name</th>\n",
              "      <th>ingredients</th>\n",
              "      <th>diet</th>\n",
              "      <th>prep_time</th>\n",
              "      <th>cook_time</th>\n",
              "      <th>flavor_profile</th>\n",
              "      <th>course</th>\n",
              "      <th>state</th>\n",
              "      <th>region</th>\n",
              "    </tr>\n",
              "  </thead>\n",
              "  <tbody>\n",
              "    <tr>\n",
              "      <th>0</th>\n",
              "      <td>Balu shahi</td>\n",
              "      <td>Maida flour, yogurt, oil, sugar</td>\n",
              "      <td>vegetarian</td>\n",
              "      <td>0.191876</td>\n",
              "      <td>-0.197825</td>\n",
              "      <td>sweet</td>\n",
              "      <td>dessert</td>\n",
              "      <td>West Bengal</td>\n",
              "      <td>East</td>\n",
              "    </tr>\n",
              "    <tr>\n",
              "      <th>1</th>\n",
              "      <td>Boondi</td>\n",
              "      <td>Gram flour, ghee, sugar</td>\n",
              "      <td>vegetarian</td>\n",
              "      <td>0.675221</td>\n",
              "      <td>-0.094028</td>\n",
              "      <td>sweet</td>\n",
              "      <td>dessert</td>\n",
              "      <td>Rajasthan</td>\n",
              "      <td>West</td>\n",
              "    </tr>\n",
              "    <tr>\n",
              "      <th>2</th>\n",
              "      <td>Gajar ka halwa</td>\n",
              "      <td>Carrots, milk, sugar, ghee, cashews, raisins</td>\n",
              "      <td>vegetarian</td>\n",
              "      <td>-0.222420</td>\n",
              "      <td>0.528754</td>\n",
              "      <td>sweet</td>\n",
              "      <td>dessert</td>\n",
              "      <td>Punjab</td>\n",
              "      <td>North</td>\n",
              "    </tr>\n",
              "    <tr>\n",
              "      <th>3</th>\n",
              "      <td>Ghevar</td>\n",
              "      <td>Flour, ghee, kewra, milk, clarified butter, su...</td>\n",
              "      <td>vegetarian</td>\n",
              "      <td>-0.222420</td>\n",
              "      <td>-0.094028</td>\n",
              "      <td>sweet</td>\n",
              "      <td>dessert</td>\n",
              "      <td>Rajasthan</td>\n",
              "      <td>West</td>\n",
              "    </tr>\n",
              "    <tr>\n",
              "      <th>4</th>\n",
              "      <td>Gulab jamun</td>\n",
              "      <td>Milk powder, plain flour, baking powder, ghee,...</td>\n",
              "      <td>vegetarian</td>\n",
              "      <td>-0.222420</td>\n",
              "      <td>0.113566</td>\n",
              "      <td>sweet</td>\n",
              "      <td>dessert</td>\n",
              "      <td>West Bengal</td>\n",
              "      <td>East</td>\n",
              "    </tr>\n",
              "  </tbody>\n",
              "</table>\n",
              "</div>"
            ],
            "text/plain": [
              "             name                                        ingredients  \\\n",
              "0      Balu shahi                    Maida flour, yogurt, oil, sugar   \n",
              "1          Boondi                            Gram flour, ghee, sugar   \n",
              "2  Gajar ka halwa       Carrots, milk, sugar, ghee, cashews, raisins   \n",
              "3          Ghevar  Flour, ghee, kewra, milk, clarified butter, su...   \n",
              "4     Gulab jamun  Milk powder, plain flour, baking powder, ghee,...   \n",
              "\n",
              "         diet  prep_time  cook_time flavor_profile   course        state  \\\n",
              "0  vegetarian   0.191876  -0.197825          sweet  dessert  West Bengal   \n",
              "1  vegetarian   0.675221  -0.094028          sweet  dessert    Rajasthan   \n",
              "2  vegetarian  -0.222420   0.528754          sweet  dessert       Punjab   \n",
              "3  vegetarian  -0.222420  -0.094028          sweet  dessert    Rajasthan   \n",
              "4  vegetarian  -0.222420   0.113566          sweet  dessert  West Bengal   \n",
              "\n",
              "  region  \n",
              "0   East  \n",
              "1   West  \n",
              "2  North  \n",
              "3   West  \n",
              "4   East  "
            ]
          },
          "execution_count": 40,
          "metadata": {},
          "output_type": "execute_result"
        }
      ],
      "source": [
        "# Z-score Normalization\n",
        "df_normalized = df.copy()\n",
        "columns_to_normalize = ['prep_time', 'cook_time']\n",
        "df_normalized[columns_to_normalize] = df[columns_to_normalize].apply(zscore)\n",
        "print(\"\\nFirst 5 Rows of Normalized Data:\")\n",
        "df_normalized.head()"
      ]
    },
    {
      "cell_type": "markdown",
      "metadata": {},
      "source": [
        "1. import preprocessing module from sklearn \n",
        "2. import labelencoder class from sklearn.preprocessing \n",
        "3. create an instance of label encoder \n",
        "4. apply label encoding to all columns whose datatype is \"object\" \n",
        "5. display the information "
      ]
    },
    {
      "cell_type": "code",
      "execution_count": 43,
      "metadata": {},
      "outputs": [
        {
          "name": "stdout",
          "output_type": "stream",
          "text": [
            "<class 'pandas.core.frame.DataFrame'>\n",
            "RangeIndex: 255 entries, 0 to 254\n",
            "Data columns (total 9 columns):\n",
            " #   Column          Non-Null Count  Dtype  \n",
            "---  ------          --------------  -----  \n",
            " 0   name            255 non-null    int64  \n",
            " 1   ingredients     255 non-null    int64  \n",
            " 2   diet            255 non-null    int64  \n",
            " 3   prep_time       255 non-null    float64\n",
            " 4   cook_time       255 non-null    float64\n",
            " 5   flavor_profile  255 non-null    int64  \n",
            " 6   course          255 non-null    int64  \n",
            " 7   state           255 non-null    int64  \n",
            " 8   region          255 non-null    int64  \n",
            "dtypes: float64(2), int64(7)\n",
            "memory usage: 18.1 KB\n"
          ]
        }
      ],
      "source": [
        "\n",
        "\n",
        "from sklearn import preprocessing\n",
        "from sklearn.preprocessing import LabelEncoder\n",
        "\n",
        "label_encoder = preprocessing.LabelEncoder()\n",
        "\n",
        "df_normalized['diet'] = label_encoder.fit_transform(df_normalized['diet'])\n",
        "df_normalized['course'] = label_encoder.fit_transform(df_normalized['course'])\n",
        "df_normalized['flavor_profile'] = label_encoder.fit_transform(df_normalized['flavor_profile'])\n",
        "df_normalized['state'] = label_encoder.fit_transform(df_normalized['state'])\n",
        "df_normalized['region'] = label_encoder.fit_transform(df_normalized['region'])\n",
        "df_normalized['name'] = label_encoder.fit_transform(df_normalized['name'])\n",
        "df_normalized['ingredients'] = label_encoder.fit_transform(df_normalized['ingredients'])\n",
        "\n",
        "df_normalized.info()\n"
      ]
    },
    {
      "cell_type": "code",
      "execution_count": 46,
      "metadata": {},
      "outputs": [
        {
          "name": "stdout",
          "output_type": "stream",
          "text": [
            "Training Data Shape:\n",
            "X_train: (204, 8)\n",
            "Y_train: (204,)\n",
            "\n",
            "Testing Data Shape:\n",
            "X_test: (51, 8)\n",
            "Y_test: (51,)\n"
          ]
        },
        {
          "data": {
            "image/png": "[encoded data removed]",
            "text/plain": [
              "<Figure size 500x300 with 1 Axes>"
            ]
          },
          "metadata": {},
          "output_type": "display_data"
        }
      ],
      "source": [
        "from sklearn.model_selection import train_test_split\n",
        "\n",
        "x= df_normalized.drop(columns=['diet'])\n",
        "y= df_normalized['diet']\n",
        "\n",
        "x_train, x_test, y_train, y_test = train_test_split(x, y, test_size=0.2, random_state=42)\n",
        "\n",
        "print(\"Training Data Shape:\")\n",
        "print(\"X_train:\", x_train.shape)\n",
        "print(\"Y_train:\", y_train.shape)\n",
        "print(\"\\nTesting Data Shape:\")\n",
        "print(\"X_test:\", x_test.shape)\n",
        "print(\"Y_test:\", y_test.shape)\n",
        "\n",
        "sizes = [len(y_train), len(y_test)]\n",
        "labels = ['Training Set', 'Testing Set']\n",
        "colors = ['skyblue', 'salmon']\n",
        "\n",
        "# Create a pie chart\n",
        "plt.figure(figsize=(5,3))\n",
        "plt.pie(sizes, labels=labels, autopct='%1.1f%%', colors=colors, startangle=90, wedgeprops={'edgecolor': 'black'})\n",
        "\n",
        "# Add title\n",
        "plt.title('Train-Test Split Distribution')\n",
        "plt.show()"
      ]
    },
    {
      "cell_type": "code",
      "execution_count": 45,
      "metadata": {},
      "outputs": [
        {
          "name": "stdout",
          "output_type": "stream",
          "text": [
            "\n",
            "First 5 Rows of Min-Max Scaled Data:\n"
          ]
        },
        {
          "data": {
            "text/html": [
              "<div>\n",
              "<style scoped>\n",
              "    .dataframe tbody tr th:only-of-type {\n",
              "        vertical-align: middle;\n",
              "    }\n",
              "\n",
              "    .dataframe tbody tr th {\n",
              "        vertical-align: top;\n",
              "    }\n",
              "\n",
              "    .dataframe thead th {\n",
              "        text-align: right;\n",
              "    }\n",
              "</style>\n",
              "<table border=\"1\" class=\"dataframe\">\n",
              "  <thead>\n",
              "    <tr style=\"text-align: right;\">\n",
              "      <th></th>\n",
              "      <th>name</th>\n",
              "      <th>ingredients</th>\n",
              "      <th>diet</th>\n",
              "      <th>prep_time</th>\n",
              "      <th>cook_time</th>\n",
              "      <th>flavor_profile</th>\n",
              "      <th>course</th>\n",
              "      <th>state</th>\n",
              "      <th>region</th>\n",
              "    </tr>\n",
              "  </thead>\n",
              "  <tbody>\n",
              "    <tr>\n",
              "      <th>0</th>\n",
              "      <td>0.051181</td>\n",
              "      <td>122</td>\n",
              "      <td>1.0</td>\n",
              "      <td>0.091816</td>\n",
              "      <td>0.036061</td>\n",
              "      <td>1.0</td>\n",
              "      <td>0.0</td>\n",
              "      <td>1.000000</td>\n",
              "      <td>0.285714</td>\n",
              "    </tr>\n",
              "    <tr>\n",
              "      <th>1</th>\n",
              "      <td>0.106299</td>\n",
              "      <td>100</td>\n",
              "      <td>1.0</td>\n",
              "      <td>0.161677</td>\n",
              "      <td>0.042996</td>\n",
              "      <td>1.0</td>\n",
              "      <td>0.0</td>\n",
              "      <td>0.750000</td>\n",
              "      <td>0.857143</td>\n",
              "    </tr>\n",
              "    <tr>\n",
              "      <th>2</th>\n",
              "      <td>0.279528</td>\n",
              "      <td>35</td>\n",
              "      <td>1.0</td>\n",
              "      <td>0.031936</td>\n",
              "      <td>0.084605</td>\n",
              "      <td>1.0</td>\n",
              "      <td>0.0</td>\n",
              "      <td>0.708333</td>\n",
              "      <td>0.428571</td>\n",
              "    </tr>\n",
              "    <tr>\n",
              "      <th>3</th>\n",
              "      <td>0.299213</td>\n",
              "      <td>95</td>\n",
              "      <td>1.0</td>\n",
              "      <td>0.031936</td>\n",
              "      <td>0.042996</td>\n",
              "      <td>1.0</td>\n",
              "      <td>0.0</td>\n",
              "      <td>0.750000</td>\n",
              "      <td>0.857143</td>\n",
              "    </tr>\n",
              "    <tr>\n",
              "      <th>4</th>\n",
              "      <td>0.314961</td>\n",
              "      <td>129</td>\n",
              "      <td>1.0</td>\n",
              "      <td>0.031936</td>\n",
              "      <td>0.056865</td>\n",
              "      <td>1.0</td>\n",
              "      <td>0.0</td>\n",
              "      <td>1.000000</td>\n",
              "      <td>0.285714</td>\n",
              "    </tr>\n",
              "  </tbody>\n",
              "</table>\n",
              "</div>"
            ],
            "text/plain": [
              "       name  ingredients  diet  prep_time  cook_time  flavor_profile  course  \\\n",
              "0  0.051181          122   1.0   0.091816   0.036061             1.0     0.0   \n",
              "1  0.106299          100   1.0   0.161677   0.042996             1.0     0.0   \n",
              "2  0.279528           35   1.0   0.031936   0.084605             1.0     0.0   \n",
              "3  0.299213           95   1.0   0.031936   0.042996             1.0     0.0   \n",
              "4  0.314961          129   1.0   0.031936   0.056865             1.0     0.0   \n",
              "\n",
              "      state    region  \n",
              "0  1.000000  0.285714  \n",
              "1  0.750000  0.857143  \n",
              "2  0.708333  0.428571  \n",
              "3  0.750000  0.857143  \n",
              "4  1.000000  0.285714  "
            ]
          },
          "execution_count": 45,
          "metadata": {},
          "output_type": "execute_result"
        }
      ],
      "source": [
        "from sklearn.preprocessing import MinMaxScaler\n",
        "\n",
        "# Create a MinMaxScaler instance\n",
        "scaler = MinMaxScaler()\n",
        "\n",
        "# Apply Min-Max scaling to the columns that need to be normalized\n",
        "df_min_max_scaled = df_normalized.copy()\n",
        "columns_to_scale = ['name', 'diet', 'prep_time', 'cook_time', 'flavor_profile', 'course', 'state', 'region']\n",
        "df_min_max_scaled[columns_to_scale] = scaler.fit_transform(df_normalized[columns_to_scale])\n",
        "\n",
        "print(\"\\nFirst 5 Rows of Min-Max Scaled Data:\")\n",
        "df_min_max_scaled.head()"
      ]
    }
  ],
  "metadata": {
    "colab": {
      "authorship_tag": "ABX9TyMljsmg7YYL1ae+gW2D0coQ",
      "include_colab_link": true,
      "provenance": []
    },
    "kernelspec": {
      "display_name": "Python 3",
      "name": "python3"
    },
    "language_info": {
      "codemirror_mode": {
        "name": "ipython",
        "version": 3
      },
      "file_extension": ".py",
      "mimetype": "text/x-python",
      "name": "python",
      "nbconvert_exporter": "python",
      "pygments_lexer": "ipython3",
      "version": "3.11.9"
    }
  },
  "nbformat": 4,
  "nbformat_minor": 0
}
