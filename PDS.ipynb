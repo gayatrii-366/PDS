{
  "nbformat": 4,
  "nbformat_minor": 0,
  "metadata": {
    "colab": {
      "provenance": [],
      "authorship_tag": "ABX9TyN9J9wbOt3tbo12FfSBy7hy",
      "include_colab_link": true
    },
    "kernelspec": {
      "name": "python3",
      "display_name": "Python 3"
    },
    "language_info": {
      "name": "python"
    }
  },
  "cells": [
    {
      "cell_type": "markdown",
      "metadata": {
        "id": "view-in-github",
        "colab_type": "text"
      },
      "source": [
        "<a href=\"https://colab.research.google.com/github/gayatrii-366/PDS/blob/main/PDS.ipynb\" target=\"_parent\"><img src=\"https://colab.research.google.com/assets/colab-badge.svg\" alt=\"Open In Colab\"/></a>"
      ]
    },
    {
      "cell_type": "markdown",
      "source": [
        "cloning the datasets from github"
      ],
      "metadata": {
        "id": "e0Ekh1z4l5dI"
      }
    },
    {
      "cell_type": "code",
      "execution_count": 1,
      "metadata": {
        "colab": {
          "base_uri": "https://localhost:8080/"
        },
        "id": "TAhOg_iVluoc",
        "outputId": "bf1c304c-e140-4ed0-84d9-7b6c0f1d2585"
      },
      "outputs": [
        {
          "output_type": "stream",
          "name": "stdout",
          "text": [
            "Cloning into 'PDS'...\n",
            "remote: Enumerating objects: 35, done.\u001b[K\n",
            "remote: Counting objects: 100% (35/35), done.\u001b[K\n",
            "remote: Compressing objects: 100% (31/31), done.\u001b[K\n",
            "remote: Total 35 (delta 8), reused 0 (delta 0), pack-reused 0 (from 0)\u001b[K\n",
            "Receiving objects: 100% (35/35), 165.39 KiB | 822.00 KiB/s, done.\n",
            "Resolving deltas: 100% (8/8), done.\n"
          ]
        }
      ],
      "source": [
        "! git clone \"https://github.com/gayatrii-366/PDS.git\""
      ]
    },
    {
      "cell_type": "markdown",
      "source": [],
      "metadata": {
        "id": "FT8ENiA2mfzr"
      }
    },
    {
      "cell_type": "markdown",
      "source": [
        "imported both the datasets and read them\n",
        "concated them\n",
        "randomly picked their samples\n",
        "and concatanated their samples\n",
        "\n",
        "then used some functions for pre-procewsing data(cleaning)"
      ],
      "metadata": {
        "id": "FjfgOKgyoTtH"
      }
    },
    {
      "cell_type": "code",
      "source": [
        "import pandas as pd\n",
        "url1= \"/content/PDS/Food_Preference.csv\"\n",
        "df1=pd.read_csv(url1)\n",
        "\n",
        "url2= \"/content/PDS/indian_food.csv\"\n",
        "df2=pd.read_csv(url2)\n",
        "\n",
        "print(\"Food prefernce:\")\n",
        "df1.head()\n",
        "print(\"Indian food:\")\n",
        "df2.head()\n",
        "\n",
        "concat_df=pd.concat([df1,df2],axis=0)\n",
        "concat_df.head()\n",
        "\n",
        "sample_df1=df1.sample(frac=0.2,random_state=42)\n",
        "sample_df2=df2.sample(frac=0.2,random_state=42)\n",
        "concat_sample = pd.concat([sample_df1,sample_df2],axis=0)\n",
        "concat_sample.head()\n",
        "\n",
        "#returns information about the data\n",
        "concat_sample.info()\n",
        "#returns datatype and stuff\n",
        "concat_sample.describe()\n",
        "#returns all null vlues\n",
        "concat_sample.isnull()\n",
        "#returns sum of all null values\n",
        "concat_sample.isnull().sum()\n",
        "#drops all null values\n",
        "concat_sample.dropna()\n",
        "#fills all null values with \"0\"\n",
        "concat_sample.fillna(0)\n",
        "#returns all duplicated values\n",
        "concat_sample.duplicated()"
      ],
      "metadata": {
        "colab": {
          "base_uri": "https://localhost:8080/",
          "height": 909
        },
        "id": "DiAoe5GCl_et",
        "outputId": "a24f2096-58e5-457c-ef23-74581f603f83"
      },
      "execution_count": 15,
      "outputs": [
        {
          "output_type": "stream",
          "name": "stdout",
          "text": [
            "Food prefernce:\n",
            "Indian food:\n",
            "<class 'pandas.core.frame.DataFrame'>\n",
            "Index: 109 entries, 45 to 177\n",
            "Data columns (total 17 columns):\n",
            " #   Column          Non-Null Count  Dtype  \n",
            "---  ------          --------------  -----  \n",
            " 0   Timestamp       58 non-null     object \n",
            " 1   Participant_ID  58 non-null     object \n",
            " 2   Gender          57 non-null     object \n",
            " 3   Nationality     58 non-null     object \n",
            " 4   Age             58 non-null     float64\n",
            " 5   Food            58 non-null     object \n",
            " 6   Juice           58 non-null     object \n",
            " 7   Dessert         58 non-null     object \n",
            " 8   name            51 non-null     object \n",
            " 9   ingredients     51 non-null     object \n",
            " 10  diet            51 non-null     object \n",
            " 11  prep_time       51 non-null     float64\n",
            " 12  cook_time       51 non-null     float64\n",
            " 13  flavor_profile  51 non-null     object \n",
            " 14  course          51 non-null     object \n",
            " 15  state           51 non-null     object \n",
            " 16  region          51 non-null     object \n",
            "dtypes: float64(3), object(14)\n",
            "memory usage: 15.3+ KB\n"
          ]
        },
        {
          "output_type": "execute_result",
          "data": {
            "text/plain": [
              "45     False\n",
              "157    False\n",
              "256    False\n",
              "42     False\n",
              "181    False\n",
              "       ...  \n",
              "16     False\n",
              "67     False\n",
              "206    False\n",
              "200    False\n",
              "177    False\n",
              "Length: 109, dtype: bool"
            ],
            "text/html": [
              "<div>\n",
              "<style scoped>\n",
              "    .dataframe tbody tr th:only-of-type {\n",
              "        vertical-align: middle;\n",
              "    }\n",
              "\n",
              "    .dataframe tbody tr th {\n",
              "        vertical-align: top;\n",
              "    }\n",
              "\n",
              "    .dataframe thead th {\n",
              "        text-align: right;\n",
              "    }\n",
              "</style>\n",
              "<table border=\"1\" class=\"dataframe\">\n",
              "  <thead>\n",
              "    <tr style=\"text-align: right;\">\n",
              "      <th></th>\n",
              "      <th>0</th>\n",
              "    </tr>\n",
              "  </thead>\n",
              "  <tbody>\n",
              "    <tr>\n",
              "      <th>45</th>\n",
              "      <td>False</td>\n",
              "    </tr>\n",
              "    <tr>\n",
              "      <th>157</th>\n",
              "      <td>False</td>\n",
              "    </tr>\n",
              "    <tr>\n",
              "      <th>256</th>\n",
              "      <td>False</td>\n",
              "    </tr>\n",
              "    <tr>\n",
              "      <th>42</th>\n",
              "      <td>False</td>\n",
              "    </tr>\n",
              "    <tr>\n",
              "      <th>181</th>\n",
              "      <td>False</td>\n",
              "    </tr>\n",
              "    <tr>\n",
              "      <th>...</th>\n",
              "      <td>...</td>\n",
              "    </tr>\n",
              "    <tr>\n",
              "      <th>16</th>\n",
              "      <td>False</td>\n",
              "    </tr>\n",
              "    <tr>\n",
              "      <th>67</th>\n",
              "      <td>False</td>\n",
              "    </tr>\n",
              "    <tr>\n",
              "      <th>206</th>\n",
              "      <td>False</td>\n",
              "    </tr>\n",
              "    <tr>\n",
              "      <th>200</th>\n",
              "      <td>False</td>\n",
              "    </tr>\n",
              "    <tr>\n",
              "      <th>177</th>\n",
              "      <td>False</td>\n",
              "    </tr>\n",
              "  </tbody>\n",
              "</table>\n",
              "<p>109 rows × 1 columns</p>\n",
              "</div><br><label><b>dtype:</b> bool</label>"
            ]
          },
          "metadata": {},
          "execution_count": 15
        }
      ]
    }
  ]
}